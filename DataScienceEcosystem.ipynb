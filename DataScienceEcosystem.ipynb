{
 "cells": [
  {
   "cell_type": "markdown",
   "id": "e75e240a-4ecc-4038-9222-a56bb56b72e8",
   "metadata": {},
   "source": [
    "# Data Science Tools and Ecosystem"
   ]
  },
  {
   "cell_type": "markdown",
   "id": "7680687d-982e-4fd5-b87d-10b43ddefbf3",
   "metadata": {},
   "source": [
    "In this notebook, we will summarize some of the key tools, languages, and libraries used in the field of data science."
   ]
  },
  {
   "cell_type": "markdown",
   "id": "ef7bc17b-5ec6-45d6-97cd-0834db3c196a",
   "metadata": {},
   "source": [
    "**Some popular languages used by data scientists include:**\n",
    "1. Python\n",
    "2. R\n",
    "3. SQL\n",
    "4. Java\n",
    "5. Julia\n",
    "6. Scala\n",
    "7. C++"
   ]
  },
  {
   "cell_type": "markdown",
   "id": "7dc58be6-8d46-4362-abbe-a061a5307429",
   "metadata": {},
   "source": [
    "**Some commonly used libraries used by data scientists include:**\n",
    "1. Pandas\n",
    "2. NumPy\n",
    "3. Matplotlib\n",
    "4. Scikit-learn\n",
    "5. TensorFlow"
   ]
  },
  {
   "cell_type": "markdown",
   "id": "03930f50-da09-4741-8443-35c481044ca2",
   "metadata": {},
   "source": [
    "|   Data Science Tool   |      Category     |\n",
    "|-----------------------|-------------------|\n",
    "| Jupyter Notebook      | IDE               |\n",
    "| RStudio               | IDE               |\n",
    "| Apache Spark          | Big Data Platform |\n",
    "| TensorFlow            | ML Library        |\n",
    "| VS Code               | Code Editor       |"
   ]
  },
  {
   "cell_type": "markdown",
   "id": "128afa60-b753-412f-a505-76e17e86d82a",
   "metadata": {},
   "source": [
    "Below is an example of evaluating an arithmetic expression:"
   ]
  },
  {
   "cell_type": "code",
   "execution_count": null,
   "id": "6713e17b-56ec-4028-85b9-2881ba8e2983",
   "metadata": {},
   "outputs": [],
   "source": [
    "# This will multiply then add numbers\n",
    "(3 * 4) + 5"
   ]
  },
  {
   "cell_type": "code",
   "execution_count": null,
   "id": "eba11a66-0bda-43f8-8054-f868f5297069",
   "metadata": {},
   "outputs": [],
   "source": [
    "# This will convert 200 minutes to hours\n",
    "minutes = 200\n",
    "hours = minutes / 60\n",
    "hours"
   ]
  },
  {
   "cell_type": "markdown",
   "id": "6e8e905b-24b8-4b51-97bd-3e02a641840a",
   "metadata": {},
   "source": [
    "**Objectives:**\n",
    "- List popular languages for Data Science\n",
    "- List commonly used libraries\n",
    "- Create markdown and code cells in Jupyter Notebook\n",
    "- Perform arithmetic operations in Python"
   ]
  },
  {
   "cell_type": "markdown",
   "id": "7f8d71bf-4672-451e-9f5a-81f0e07fb1ca",
   "metadata": {},
   "source": [
    "**Author:** Miras Sovet"
   ]
  }
 ],
 "metadata": {
  "kernelspec": {
   "display_name": "Python [conda env:base]",
   "language": "python",
   "name": "conda-base-py"
  },
  "language_info": {
   "codemirror_mode": {
    "name": "ipython",
    "version": 3
   },
   "file_extension": ".py",
   "mimetype": "text/x-python",
   "name": "python",
   "nbconvert_exporter": "python",
   "pygments_lexer": "ipython3",
   "version": "3.13.5"
  }
 },
 "nbformat": 4,
 "nbformat_minor": 5
}
